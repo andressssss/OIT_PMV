{
 "cells": [
  {
   "cell_type": "markdown",
   "id": "e36978ae",
   "metadata": {},
   "source": [
    "Seccion para probar el envio de correos por medio del relay"
   ]
  },
  {
   "cell_type": "code",
   "execution_count": 2,
   "id": "261eb241",
   "metadata": {},
   "outputs": [
    {
     "name": "stdout",
     "output_type": "stream",
     "text": [
      "✅ Correo enviado correctamente.\n"
     ]
    }
   ],
   "source": [
    "import smtplib\n",
    "from email.mime.text import MIMEText\n",
    "\n",
    "# === Configuración del correo ===\n",
    "relay_host = \"mail.formacionprofesional-oit.org\"   # o la IP del servidor Postfix\n",
    "relay_port = 25                     # normalmente 25 si no usas TLS\n",
    "from_addr = \"noreply-senatic@formacionprofesional-oit.org\"\n",
    "to_addr = \"andrelipe897@gmail.com\"\n",
    "\n",
    "# === Construcción del mensaje ===\n",
    "msg = MIMEText(\"Correo de prueba enviado desde Jupyter usando el relay Postfix. 28102025\")\n",
    "msg[\"Subject\"] = \"Prueba SMTP Relay\"\n",
    "msg[\"From\"] = from_addr\n",
    "msg[\"To\"] = to_addr\n",
    "\n",
    "# === Envío del correo ===\n",
    "try:\n",
    "    with smtplib.SMTP(relay_host, relay_port) as server:\n",
    "        server.send_message(msg)\n",
    "        print(\"✅ Correo enviado correctamente.\")\n",
    "except Exception as e:\n",
    "    print(\"❌ Error al enviar el correo:\", e)\n"
   ]
  }
 ],
 "metadata": {
  "kernelspec": {
   "display_name": "Python 3",
   "language": "python",
   "name": "python3"
  },
  "language_info": {
   "codemirror_mode": {
    "name": "ipython",
    "version": 3
   },
   "file_extension": ".py",
   "mimetype": "text/x-python",
   "name": "python",
   "nbconvert_exporter": "python",
   "pygments_lexer": "ipython3",
   "version": "3.13.9"
  }
 },
 "nbformat": 4,
 "nbformat_minor": 5
}
